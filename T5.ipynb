{
  "cells": [
    {
      "cell_type": "markdown",
      "metadata": {
        "id": "view-in-github",
        "colab_type": "text"
      },
      "source": [
        "<a href=\"https://colab.research.google.com/github/lusabo/fashionAI/blob/main/T5.ipynb\" target=\"_parent\"><img src=\"https://colab.research.google.com/assets/colab-badge.svg\" alt=\"Open In Colab\"/></a>"
      ]
    },
    {
      "cell_type": "code",
      "source": [
        "!rm -r /content/results\n",
        "!rm -r /content/t5-chatbot"
      ],
      "metadata": {
        "id": "S9ztHWZQs4U0"
      },
      "execution_count": null,
      "outputs": []
    },
    {
      "cell_type": "code",
      "execution_count": null,
      "metadata": {
        "id": "rJKYJ9pEhC6q"
      },
      "outputs": [],
      "source": [
        "!pip install transformers[torch] datasets"
      ]
    },
    {
      "cell_type": "code",
      "source": [
        "import os\n",
        "import json\n",
        "import pandas as pd\n",
        "from datasets import Dataset, DatasetDict\n",
        "from transformers import T5Tokenizer, T5ForConditionalGeneration, Trainer, TrainingArguments, DataCollatorForSeq2Seq\n",
        "from transformers.trainer_callback import TrainerCallback\n",
        "import logging"
      ],
      "metadata": {
        "id": "p3t_37sWqQze"
      },
      "execution_count": null,
      "outputs": []
    },
    {
      "cell_type": "code",
      "source": [
        "# Carregar o arquivo JSON\n",
        "file_path = '/content/dataset.json'\n",
        "\n",
        "with open(file_path, 'r') as file:\n",
        "  data = json.load(file)\n",
        "\n",
        "# Transformar os dados em um DataFrame\n",
        "df = pd.DataFrame(data)\n",
        "\n",
        "# Criar um Dataset do Hugging Face\n",
        "dataset = Dataset.from_pandas(df)"
      ],
      "metadata": {
        "id": "d2hxu4iQqSc8"
      },
      "execution_count": null,
      "outputs": []
    },
    {
      "cell_type": "code",
      "source": [
        "def preprocess_function(examples):\n",
        "    inputs = [f\"pergunta: {question}\" for question in examples['pergunta']]\n",
        "    targets = [f\"resposta: {answer}\" for answer in examples['resposta']]\n",
        "    return {\"input_text\": inputs, \"target_text\": targets}\n",
        "\n",
        "# Aplicar a função de preprocessamento\n",
        "dataset = dataset.map(preprocess_function, batched=True)"
      ],
      "metadata": {
        "id": "j5kohIcJqfwr"
      },
      "execution_count": null,
      "outputs": []
    },
    {
      "cell_type": "code",
      "source": [
        "# Verificar as primeiras linhas do Dataset para garantir que o preprocessamento está correto\n",
        "print(f\"Primeiros exemplos do Dataset após preprocessamento:\\n{dataset[0]}\")"
      ],
      "metadata": {
        "id": "gbE50XtMrAIm"
      },
      "execution_count": null,
      "outputs": []
    },
    {
      "cell_type": "code",
      "source": [
        "# Carregar o tokenizer e o modelo T5\n",
        "model_name = 't5-small'\n",
        "tokenizer = T5Tokenizer.from_pretrained(model_name)\n",
        "\n",
        "def tokenize_function(examples):\n",
        "    print(examples)\n",
        "    model_inputs = tokenizer(examples[\"input_text\"], max_length=512, truncation=True, padding=\"max_length\")\n",
        "    labels = tokenizer(examples[\"target_text\"], max_length=512, truncation=True, padding=\"max_length\")\n",
        "    model_inputs[\"labels\"] = labels[\"input_ids\"]\n",
        "    return model_inputs\n",
        "\n",
        "# Tokenizar o dataset\n",
        "tokenized_dataset = dataset.map(tokenize_function, batched=True)"
      ],
      "metadata": {
        "id": "xb9HlKwMrTy0"
      },
      "execution_count": null,
      "outputs": []
    },
    {
      "cell_type": "code",
      "source": [
        "# Verificar as primeiras linhas do Dataset tokenizado para garantir que a tokenização está correta\n",
        "print(f\"Primeiros exemplos do Dataset tokenizado:\\n{tokenized_dataset[0]}\")"
      ],
      "metadata": {
        "id": "pjIH6qW-r4HK"
      },
      "execution_count": null,
      "outputs": []
    },
    {
      "cell_type": "code",
      "source": [
        "model = T5ForConditionalGeneration.from_pretrained(model_name)\n",
        "\n",
        "# Definir os argumentos de treinamento\n",
        "training_args = TrainingArguments(\n",
        "    output_dir=\"./results\",\n",
        "    eval_strategy=\"epoch\",  # Avaliar ao final de cada época\n",
        "    learning_rate=3e-5,  # Taxa de aprendizado um pouco maior para garantir um aprendizado eficaz\n",
        "    per_device_train_batch_size=8,  # Tamanho do lote moderado para equilibrar a memória e a eficiência\n",
        "    per_device_eval_batch_size=8,  # Tamanho do lote de avaliação\n",
        "    num_train_epochs=10,  # Mais épocas para garantir que o modelo tenha tempo suficiente para aprender\n",
        "    weight_decay=0.01,  # Regularização para evitar overfitting\n",
        "    save_strategy=\"epoch\",  # Salvar o modelo ao final de cada época\n",
        "    save_total_limit=2,  # Manter apenas os 2 últimos checkpoints\n",
        "    fp16=True,  # Usar precisão mista para acelerar o treinamento e reduzir o uso de memória\n",
        ")\n",
        "\n",
        "# Data collator para garantir que as entradas estejam padronizadas durante o treinamento\n",
        "data_collator = DataCollatorForSeq2Seq(tokenizer, model=model)\n",
        "\n",
        "# Dividir o dataset em treinamento e avaliação\n",
        "train_test_split = tokenized_dataset.train_test_split(test_size=0.1)\n",
        "train_dataset = train_test_split['train']\n",
        "eval_dataset = train_test_split['test']\n",
        "\n",
        "trainer = Trainer(\n",
        "    model=model,\n",
        "    args=training_args,\n",
        "    train_dataset=train_dataset,\n",
        "    eval_dataset=eval_dataset,\n",
        "    data_collator=data_collator,\n",
        ")"
      ],
      "metadata": {
        "id": "AYwNr5XUwLr0"
      },
      "execution_count": null,
      "outputs": []
    },
    {
      "cell_type": "code",
      "source": [
        "# Treinar o modelo\n",
        "trainer.train()"
      ],
      "metadata": {
        "id": "OQhn4sN1wUcR"
      },
      "execution_count": null,
      "outputs": []
    },
    {
      "cell_type": "code",
      "execution_count": null,
      "metadata": {
        "id": "nCoUYByghtj9"
      },
      "outputs": [],
      "source": [
        "# Verificar e salvar o modelo e o tokenizer\n",
        "output_dir = \"./t5-chatbot\"\n",
        "\n",
        "model.save_pretrained(output_dir)\n",
        "tokenizer.save_pretrained(output_dir)"
      ]
    },
    {
      "cell_type": "code",
      "source": [
        "from transformers import T5ForConditionalGeneration, T5Tokenizer\n",
        "\n",
        "# Carregar o modelo e o tokenizador treinados\n",
        "model = T5ForConditionalGeneration.from_pretrained(\"./t5-chatbot\")\n",
        "tokenizer = T5Tokenizer.from_pretrained(\"./t5-chatbot\")\n",
        "\n",
        "def generate_answer(question, max_new_tokens=50, num_beams=3):\n",
        "    input_text = f\"pergunta: {question}\"\n",
        "    input_ids = tokenizer(input_text, return_tensors=\"pt\").input_ids\n",
        "\n",
        "    # Gerar a resposta com os parâmetros ajustados\n",
        "    outputs = model.generate(input_ids, max_new_tokens=512, num_beams=3, early_stopping=True)\n",
        "\n",
        "    # Decodificar a resposta gerada\n",
        "    answer = tokenizer.decode(outputs[0], skip_special_tokens=True)\n",
        "    return answer"
      ],
      "metadata": {
        "id": "nIfT5OOblRqh"
      },
      "execution_count": null,
      "outputs": []
    },
    {
      "cell_type": "code",
      "source": [
        "# Testar com uma nova pergunta\n",
        "print(generate_answer(\"Como usar calça jeans de forma estilosa?\"))"
      ],
      "metadata": {
        "id": "nZRSjJwQ1Ef-"
      },
      "execution_count": null,
      "outputs": []
    },
    {
      "cell_type": "code",
      "source": [
        "import pandas as pd\n",
        "from transformers import T5Tokenizer\n",
        "import matplotlib.pyplot as plt\n",
        "\n",
        "# Carregar os dados\n",
        "df = pd.read_json('/content/dataset.json')\n",
        "\n",
        "# Carregar o tokenizer\n",
        "model_name = 't5-small'\n",
        "tokenizer = T5Tokenizer.from_pretrained(model_name)\n",
        "\n",
        "# Tokenizar os textos e obter o comprimento\n",
        "input_lengths = [len(tokenizer.encode(text, truncation=False)) for text in df['pergunta']]\n",
        "target_lengths = [len(tokenizer.encode(text, truncation=False)) for text in df['resposta']]\n",
        "\n",
        "# Plotar a distribuição do comprimento dos tokens\n",
        "plt.hist(input_lengths, bins=30, alpha=0.7, label='Perguntas')\n",
        "plt.hist(target_lengths, bins=30, alpha=0.7, label='Respostas')\n",
        "plt.xlabel('Número de Tokens')\n",
        "plt.ylabel('Número de Exemplos')\n",
        "plt.legend()\n",
        "plt.title('Distribuição do Comprimento dos Tokens')\n",
        "plt.show()\n",
        "\n",
        "# Escolher um valor de max_length baseado na distribuição\n",
        "max_length = 140  # Exemplo, ajuste conforme necessário\n",
        "\n",
        "# Verificar a porcentagem de truncamento\n",
        "truncated_inputs = sum([1 for length in input_lengths if length > 60]) / len(input_lengths) * 100\n",
        "truncated_targets = sum([1 for length in target_lengths if length > max_length]) / len(target_lengths) * 100\n",
        "\n",
        "print(f\"Porcentagem de perguntas truncadas: {truncated_inputs:.2f}%\")\n",
        "print(f\"Porcentagem de respostas truncadas: {truncated_targets:.2f}%\")"
      ],
      "metadata": {
        "id": "Lnb-oWr399IS"
      },
      "execution_count": null,
      "outputs": []
    }
  ],
  "metadata": {
    "accelerator": "GPU",
    "colab": {
      "gpuType": "T4",
      "provenance": [],
      "authorship_tag": "ABX9TyOF41newzqScK1bGyu9JKpI",
      "include_colab_link": true
    },
    "kernelspec": {
      "display_name": "Python 3",
      "name": "python3"
    },
    "language_info": {
      "name": "python"
    }
  },
  "nbformat": 4,
  "nbformat_minor": 0
}