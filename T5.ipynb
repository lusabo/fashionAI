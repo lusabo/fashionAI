{
  "cells": [
    {
      "cell_type": "markdown",
      "metadata": {
        "id": "view-in-github",
        "colab_type": "text"
      },
      "source": [
        "<a href=\"https://colab.research.google.com/github/lusabo/fashionAI/blob/main/T5.ipynb\" target=\"_parent\"><img src=\"https://colab.research.google.com/assets/colab-badge.svg\" alt=\"Open In Colab\"/></a>"
      ]
    },
    {
      "cell_type": "code",
      "source": [
        "!rm -r /content/results\n",
        "!rm -r /content/t5-chatbot"
      ],
      "metadata": {
        "colab": {
          "base_uri": "https://localhost:8080/"
        },
        "id": "S9ztHWZQs4U0",
        "outputId": "5b0900fb-cb9b-41bb-b908-c502c916ca2d"
      },
      "execution_count": null,
      "outputs": [
        {
          "output_type": "stream",
          "name": "stdout",
          "text": [
            "rm: cannot remove '/content/results': No such file or directory\n",
            "rm: cannot remove '/content/t5-chatbot': No such file or directory\n"
          ]
        }
      ]
    },
    {
      "cell_type": "code",
      "execution_count": null,
      "metadata": {
        "id": "rJKYJ9pEhC6q"
      },
      "outputs": [],
      "source": [
        "!pip install transformers[torch] datasets"
      ]
    },
    {
      "cell_type": "code",
      "source": [
        "import os\n",
        "import json\n",
        "import pandas as pd\n",
        "from datasets import Dataset, DatasetDict\n",
        "from transformers import T5Tokenizer, T5ForConditionalGeneration, Trainer, TrainingArguments, DataCollatorForSeq2Seq\n",
        "from transformers.trainer_callback import TrainerCallback\n",
        "import logging"
      ],
      "metadata": {
        "id": "p3t_37sWqQze"
      },
      "execution_count": null,
      "outputs": []
    },
    {
      "cell_type": "code",
      "source": [
        "# Carregar o arquivo JSON\n",
        "file_path = '/content/dataset.json'\n",
        "\n",
        "with open(file_path, 'r') as file:\n",
        "  data = json.load(file)\n",
        "\n",
        "# Transformar os dados em um DataFrame\n",
        "df = pd.DataFrame(data)\n",
        "\n",
        "# Criar um Dataset do Hugging Face\n",
        "dataset = Dataset.from_pandas(df)"
      ],
      "metadata": {
        "id": "d2hxu4iQqSc8"
      },
      "execution_count": null,
      "outputs": []
    },
    {
      "cell_type": "code",
      "source": [
        "def preprocess_function(examples):\n",
        "    inputs = [f\"pergunta: {question}\" for question in examples['pergunta']]\n",
        "    targets = [f\"resposta: {answer}\" for answer in examples['resposta']]\n",
        "    return {\"input_text\": inputs, \"target_text\": targets}\n",
        "\n",
        "# Aplicar a função de preprocessamento\n",
        "dataset = dataset.map(preprocess_function, batched=True)"
      ],
      "metadata": {
        "id": "j5kohIcJqfwr"
      },
      "execution_count": null,
      "outputs": []
    },
    {
      "cell_type": "code",
      "source": [
        "# Verificar as primeiras linhas do Dataset para garantir que o preprocessamento está correto\n",
        "print(f\"Primeiros exemplos do Dataset após preprocessamento:\\n{dataset[0]}\")"
      ],
      "metadata": {
        "id": "gbE50XtMrAIm"
      },
      "execution_count": null,
      "outputs": []
    },
    {
      "cell_type": "code",
      "source": [
        "# Carregar o tokenizer e o modelo T5\n",
        "model_name = 't5-small'\n",
        "tokenizer = T5Tokenizer.from_pretrained(model_name)\n",
        "\n",
        "def tokenize_function(examples):\n",
        "    model_inputs = tokenizer(examples[\"input_text\"], max_length=512, truncation=True, padding=\"max_length\")\n",
        "    labels = tokenizer(examples[\"target_text\"], max_length=512, truncation=True, padding=\"max_length\")\n",
        "    model_inputs[\"labels\"] = labels[\"input_ids\"]\n",
        "    return model_inputs\n",
        "\n",
        "# Tokenizar o dataset\n",
        "tokenized_dataset = dataset.map(tokenize_function, batched=True)"
      ],
      "metadata": {
        "id": "xb9HlKwMrTy0"
      },
      "execution_count": null,
      "outputs": []
    },
    {
      "cell_type": "code",
      "source": [
        "# Verificar as primeiras linhas do Dataset tokenizado para garantir que a tokenização está correta\n",
        "print(f\"Primeiros exemplos do Dataset tokenizado:\\n{tokenized_dataset[0]}\")"
      ],
      "metadata": {
        "id": "pjIH6qW-r4HK"
      },
      "execution_count": null,
      "outputs": []
    },
    {
      "cell_type": "code",
      "source": [
        "model = T5ForConditionalGeneration.from_pretrained(model_name)\n",
        "\n",
        "# Definir os argumentos de treinamento\n",
        "training_args = TrainingArguments(\n",
        "    output_dir=\"./results\",\n",
        "    eval_strategy=\"epoch\",\n",
        "    learning_rate=3e-5,\n",
        "    per_device_train_batch_size=16,\n",
        "    per_device_eval_batch_size=16,\n",
        "    num_train_epochs=3,\n",
        "    weight_decay=0.01\n",
        ")\n",
        "\n",
        "# Data collator para garantir que as entradas estejam padronizadas durante o treinamento\n",
        "data_collator = DataCollatorForSeq2Seq(tokenizer, model=model)\n",
        "\n",
        "trainer = Trainer(\n",
        "    model=model,\n",
        "    args=training_args,\n",
        "    train_dataset=tokenized_dataset,\n",
        "    eval_dataset=tokenized_dataset,\n",
        "    data_collator=data_collator\n",
        ")"
      ],
      "metadata": {
        "id": "AYwNr5XUwLr0"
      },
      "execution_count": null,
      "outputs": []
    },
    {
      "cell_type": "code",
      "source": [
        "# Treinar o modelo\n",
        "trainer.train()"
      ],
      "metadata": {
        "id": "OQhn4sN1wUcR"
      },
      "execution_count": null,
      "outputs": []
    },
    {
      "cell_type": "code",
      "execution_count": null,
      "metadata": {
        "id": "nCoUYByghtj9"
      },
      "outputs": [],
      "source": [
        "# Verificar e salvar o modelo e o tokenizer\n",
        "output_dir = \"./t5-chatbot\"\n",
        "\n",
        "model.save_pretrained(output_dir)\n",
        "tokenizer.save_pretrained(output_dir)"
      ]
    },
    {
      "cell_type": "code",
      "source": [
        "from transformers import T5ForConditionalGeneration, T5Tokenizer\n",
        "\n",
        "# Carregar o modelo e o tokenizador treinados\n",
        "model = T5ForConditionalGeneration.from_pretrained(\"./t5-chatbot\")\n",
        "tokenizer = T5Tokenizer.from_pretrained(\"./t5-chatbot\")\n",
        "\n",
        "def generate_answer(question, max_new_tokens=50, num_beams=3):\n",
        "    input_text = f\"pergunta: {question}\"\n",
        "    input_ids = tokenizer(input_text, return_tensors=\"pt\").input_ids\n",
        "\n",
        "    # Gerar a resposta com os parâmetros ajustados\n",
        "    outputs = model.generate(input_ids, max_new_tokens=50, num_beams=3, early_stopping=True)\n",
        "\n",
        "    # Decodificar a resposta gerada\n",
        "    answer = tokenizer.decode(outputs[0], skip_special_tokens=True)\n",
        "    return answer"
      ],
      "metadata": {
        "id": "nIfT5OOblRqh"
      },
      "execution_count": null,
      "outputs": []
    },
    {
      "cell_type": "code",
      "source": [
        "# Testar com uma nova pergunta\n",
        "print(generate_answer(\"Como usar calça jeans de forma estilosa?\"))"
      ],
      "metadata": {
        "id": "nZRSjJwQ1Ef-"
      },
      "execution_count": null,
      "outputs": []
    }
  ],
  "metadata": {
    "accelerator": "GPU",
    "colab": {
      "gpuType": "T4",
      "provenance": [],
      "authorship_tag": "ABX9TyOVE3ekox1kFNv0j3NJfQpv",
      "include_colab_link": true
    },
    "kernelspec": {
      "display_name": "Python 3",
      "name": "python3"
    },
    "language_info": {
      "name": "python"
    }
  },
  "nbformat": 4,
  "nbformat_minor": 0
}